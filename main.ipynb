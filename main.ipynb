{
 "cells": [
  {
   "cell_type": "code",
   "execution_count": null,
   "metadata": {},
   "outputs": [],
   "source": [
    "import os\n",
    "import csv\n",
    "from tqdm import tqdm"
   ]
  },
  {
   "cell_type": "code",
   "execution_count": null,
   "metadata": {},
   "outputs": [],
   "source": [
    "dir_src_path = \"PARENT_DIR_SORCE_FILE\"\n",
    "file_raw_path = \"FILE_SORCE_NAME\"\n",
    "\n",
    "file_path = os.path.join(dir_src_path, file_raw_path)"
   ]
  },
  {
   "cell_type": "code",
   "execution_count": null,
   "metadata": {},
   "outputs": [],
   "source": [
    "batch = 0\n",
    "n_batch = 10000000\n",
    "limit = n_batch\n",
    "base_file_path = \"DESTINATION FILE BATCH %S\"\n",
    "header = None\n",
    "\n",
    "fp = open(base_file_path % batch, 'w', encoding='latin-1')\n",
    "writer = csv.writer(fp, lineterminator='\\n')"
   ]
  },
  {
   "cell_type": "code",
   "execution_count": null,
   "metadata": {},
   "outputs": [],
   "source": [
    "def change_batch():\n",
    "    global batch\n",
    "    batch += 1\n",
    "\n",
    "    global limit\n",
    "    limit += n_batch\n",
    "\n",
    "    global fp\n",
    "    fp.close()\n",
    "    fp = open(base_file_path % batch, 'w', encoding='latin-1')\n",
    "\n",
    "    global writer\n",
    "    writer = csv.writer(fp, lineterminator='\\n')"
   ]
  },
  {
   "cell_type": "code",
   "execution_count": null,
   "metadata": {},
   "outputs": [],
   "source": [
    "with open(file_path, 'r', encoding='latin-1') as file:\n",
    "    reader = csv.reader(file)\n",
    "    for index, row in tqdm(enumerate(reader)):\n",
    "\n",
    "        if (index == 0):\n",
    "            header = row\n",
    "\n",
    "        if (index >= limit):\n",
    "            change_batch()\n",
    "            writer.writerow(header)\n",
    "\n",
    "        writer.writerow(row)\n",
    "\n",
    "fp.close()"
   ]
  },
  {
   "cell_type": "code",
   "execution_count": null,
   "metadata": {},
   "outputs": [],
   "source": [
    "fp.close()"
   ]
  }
 ],
 "metadata": {
  "language_info": {
   "name": "python"
  },
  "orig_nbformat": 4
 },
 "nbformat": 4,
 "nbformat_minor": 2
}
